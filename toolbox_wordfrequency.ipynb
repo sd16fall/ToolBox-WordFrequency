{
 "cells": [
  {
   "cell_type": "code",
   "execution_count": null,
   "metadata": {
    "collapsed": true
   },
   "outputs": [],
   "source": [
    "#open text file and remove header\n",
    "\n",
    "f = open('pride_and_prejudice.txt','r')\n",
    "\n",
    "lines = f.readlines()\n",
    "curr_lines = 0\n",
    "while lines[curr_lines].find('START OF THIS PROJECT GUTENBERG EBOOK')==-1:\n",
    "    curr_lines +=1\n",
    "lines = lines[curr_lines + 1:]"
   ]
  },
  {
   "cell_type": "code",
   "execution_count": null,
   "metadata": {
    "collapsed": true
   },
   "outputs": [],
   "source": [
    "import string\n",
    "\n",
    "new_lst = []\n",
    "\n",
    "\n",
    "#getting rid of punctuations\n",
    "for a in lines:\n",
    "    a=a.lower()\n",
    "    no_punc=a.translate(string.maketrans(\"\",\"\"), string.punctuation)\n",
    "    new_lst.append(no_punc)\n",
    "\n",
    "\n"
   ]
  },
  {
   "cell_type": "code",
   "execution_count": null,
   "metadata": {
    "collapsed": true
   },
   "outputs": [],
   "source": [
    "#get the word count\n",
    "\n",
    "word_counts={}\n",
    "\n",
    "for line in new_lst[0:1000]:\n",
    "    lst=[]\n",
    "    lst=line.split()\n",
    "    for a in lst:\n",
    "        if a not in word_counts:\n",
    "            word_counts[a]=1\n",
    "        else:\n",
    "            word_counts[a]+=1\n",
    "            \n"
   ]
  },
  {
   "cell_type": "code",
   "execution_count": 1,
   "metadata": {
    "collapsed": false
   },
   "outputs": [
    {
     "ename": "NameError",
     "evalue": "name 'new_dict' is not defined",
     "output_type": "error",
     "traceback": [
      "\u001b[0;31m-----------------------------------------------------------------------\u001b[0m",
      "\u001b[0;31mNameError\u001b[0m                             Traceback (most recent call last)",
      "\u001b[0;32m<ipython-input-1-6d2684914661>\u001b[0m in \u001b[0;36m<module>\u001b[0;34m()\u001b[0m\n\u001b[1;32m      8\u001b[0m     \u001b[0;32mreturn\u001b[0m \u001b[0mr\u001b[0m\u001b[0;34m[\u001b[0m\u001b[0;34m:\u001b[0m\u001b[0;36m100\u001b[0m\u001b[0;34m]\u001b[0m\u001b[0;34m\u001b[0m\u001b[0m\n\u001b[1;32m      9\u001b[0m \u001b[0;34m\u001b[0m\u001b[0m\n\u001b[0;32m---> 10\u001b[0;31m \u001b[0mprint_order\u001b[0m\u001b[0;34m(\u001b[0m\u001b[0mnew_dict\u001b[0m\u001b[0;34m)\u001b[0m\u001b[0;34m\u001b[0m\u001b[0m\n\u001b[0m",
      "\u001b[0;31mNameError\u001b[0m: name 'new_dict' is not defined"
     ]
    }
   ],
   "source": [
    "#put in order\n",
    "\n",
    "def print_order(d):\n",
    "    r = []\n",
    "    for k,v in d.items():\n",
    "        r.append((v,k)) \n",
    "    r.sort(reverse=True)\n",
    "    return r[:100]\n",
    "\n",
    "print_order(new_dict)"
   ]
  },
  {
   "cell_type": "code",
   "execution_count": null,
   "metadata": {
    "collapsed": true
   },
   "outputs": [],
   "source": []
  }
 ],
 "metadata": {
  "kernelspec": {
   "display_name": "Python 2",
   "language": "python",
   "name": "python2"
  },
  "language_info": {
   "codemirror_mode": {
    "name": "ipython",
    "version": 2
   },
   "file_extension": ".py",
   "mimetype": "text/x-python",
   "name": "python",
   "nbconvert_exporter": "python",
   "pygments_lexer": "ipython2",
   "version": "2.7.12"
  }
 },
 "nbformat": 4,
 "nbformat_minor": 1
}
