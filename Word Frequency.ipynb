{
 "cells": [
  {
   "cell_type": "code",
   "execution_count": 6,
   "metadata": {
    "collapsed": false
   },
   "outputs": [],
   "source": [
    "import string\n",
    "\n",
    "def get_word_list(file_name):\n",
    "    f = open(file_name, 'r')\n",
    "    lines = f.readlines()\n",
    "    curr_line = 0\n",
    "    while lines[curr_line].find('START OF ANALYSIS') == -1:\n",
    "        curr_line += 1\n",
    "    lines = lines[curr_line+1:]\n",
    "    while lines[curr_line].find('END OF ANALYSIS') == -1:\n",
    "        curr_line -= 1\n",
    "    lines = lines[:curr_line]\n",
    "    \n",
    "    hist = []\n",
    "    \n",
    "    for line in lines:\n",
    "        line = line.replace('-',' ')\n",
    "        \n",
    "        for word in line.split():\n",
    "            word = word.strip(string.punctuation + string.whitespace)\n",
    "            word = word.lower()\n",
    "            \n",
    "            hist.append(word)\n",
    "            \n",
    "    return hist        \n",
    "        \n",
    "        "
   ]
  },
  {
   "cell_type": "code",
   "execution_count": 7,
   "metadata": {
    "collapsed": false
   },
   "outputs": [],
   "source": [
    "text = get_word_list('books.txt')"
   ]
  },
  {
   "cell_type": "code",
   "execution_count": 9,
   "metadata": {
    "collapsed": false
   },
   "outputs": [],
   "source": [
    "####print text"
   ]
  },
  {
   "cell_type": "code",
   "execution_count": 13,
   "metadata": {
    "collapsed": false
   },
   "outputs": [],
   "source": [
    "def get_top_n_words(word_list, n):\n",
    "    hist = {}\n",
    "    \n",
    "    for word in word_list:\n",
    "        hist[word] = hist.get(word, 0) + 1\n",
    "        \n",
    "    histlistsorted = []\n",
    "    \n",
    "    for key, value in hist.items():\n",
    "        histlistsorted.append((value,key))\n",
    "        \n",
    "    histlistsorted.sort()\n",
    "    histlistsorted.reverse()\n",
    "    \n",
    "    return histlistsorted[0:n]\n",
    "    "
   ]
  },
  {
   "cell_type": "code",
   "execution_count": 12,
   "metadata": {
    "collapsed": false
   },
   "outputs": [
    {
     "data": {
      "text/plain": [
       "[(4491, 'the'),\n",
       " (4224, 'to'),\n",
       " (3719, 'of'),\n",
       " (3563, 'and'),\n",
       " (2200, 'her'),\n",
       " (1998, 'a'),\n",
       " (1922, 'in'),\n",
       " (1839, 'was'),\n",
       " (1768, 'i'),\n",
       " (1689, 'she'),\n",
       " (1528, 'that'),\n",
       " (1445, 'it'),\n",
       " (1429, 'not'),\n",
       " (1312, 'he'),\n",
       " (1280, 'you'),\n",
       " (1263, 'his'),\n",
       " (1254, 'be'),\n",
       " (1176, 'as'),\n",
       " (1174, 'had'),\n",
       " (1092, 'with'),\n",
       " (1067, 'for'),\n",
       " (923, 'but'),\n",
       " (859, 'is'),\n",
       " (840, 'have'),\n",
       " (798, 'at'),\n",
       " (769, 'mr'),\n",
       " (721, 'him'),\n",
       " (720, 'on'),\n",
       " (667, 'my'),\n",
       " (650, 'by'),\n",
       " (621, 'all'),\n",
       " (591, 'they'),\n",
       " (591, 'elizabeth'),\n",
       " (578, 'so'),\n",
       " (563, 'were'),\n",
       " (542, 'which'),\n",
       " (524, 'could'),\n",
       " (513, 'been'),\n",
       " (502, 'from'),\n",
       " (477, 'very'),\n",
       " (469, 'would'),\n",
       " (466, 'no'),\n",
       " (457, 'this'),\n",
       " (444, 'your'),\n",
       " (442, 'their'),\n",
       " (439, 'what'),\n",
       " (419, 'me'),\n",
       " (418, 'will'),\n",
       " (416, 'them'),\n",
       " (401, 'said'),\n",
       " (393, 'such'),\n",
       " (376, 'or'),\n",
       " (362, 'an'),\n",
       " (359, 'when'),\n",
       " (352, 'darcy'),\n",
       " (350, 'are'),\n",
       " (338, 'mrs'),\n",
       " (334, 'do'),\n",
       " (332, 'there'),\n",
       " (329, 'if'),\n",
       " (325, 'more'),\n",
       " (321, 'much'),\n",
       " (316, 'must'),\n",
       " (314, 'am'),\n",
       " (305, 'any'),\n",
       " (297, '\\xe2\\x80\\x9ci'),\n",
       " (283, 'who'),\n",
       " (282, 'than'),\n",
       " (278, 'bennet'),\n",
       " (272, 'miss'),\n",
       " (266, 'one'),\n",
       " (260, 'jane'),\n",
       " (258, 'did'),\n",
       " (247, 'should'),\n",
       " (244, 'we'),\n",
       " (242, 'bingley'),\n",
       " (233, 'know'),\n",
       " (224, 'herself'),\n",
       " (224, 'before'),\n",
       " (221, 'though'),\n",
       " (221, 'other'),\n",
       " (219, 'never'),\n",
       " (218, 'has'),\n",
       " (215, 'only'),\n",
       " (214, 'soon'),\n",
       " (210, 'some'),\n",
       " (210, 'can'),\n",
       " (207, 'how'),\n",
       " (205, 'think'),\n",
       " (203, 'may'),\n",
       " (201, 'time'),\n",
       " (199, 'after'),\n",
       " (198, 'might'),\n",
       " (197, 'well'),\n",
       " (197, 'every'),\n",
       " (196, 'now'),\n",
       " (190, 'most'),\n",
       " (188, 'good'),\n",
       " (186, 'little'),\n",
       " (180, 'own')]"
      ]
     },
     "execution_count": 12,
     "metadata": {},
     "output_type": "execute_result"
    }
   ],
   "source": [
    "get_top_n_words(text, 100)"
   ]
  },
  {
   "cell_type": "code",
   "execution_count": null,
   "metadata": {
    "collapsed": true
   },
   "outputs": [],
   "source": []
  }
 ],
 "metadata": {
  "kernelspec": {
   "display_name": "Python 2",
   "language": "python",
   "name": "python2"
  },
  "language_info": {
   "codemirror_mode": {
    "name": "ipython",
    "version": 2
   },
   "file_extension": ".py",
   "mimetype": "text/x-python",
   "name": "python",
   "nbconvert_exporter": "python",
   "pygments_lexer": "ipython2",
   "version": "2.7.12"
  }
 },
 "nbformat": 4,
 "nbformat_minor": 1
}
