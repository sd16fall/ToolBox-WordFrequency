{
 "cells": [
  {
   "cell_type": "code",
   "execution_count": 13,
   "metadata": {
    "collapsed": false
   },
   "outputs": [],
   "source": [
    "\"\"\" Analyzes the word frequencies in a book downloaded from\n",
    "    Project Gutenberg \"\"\"\n",
    "\n",
    "import string\n",
    "\n",
    "def get_word_list(file_name):\n",
    "    \"\"\" Reads the specified project Gutenberg book.  Header comments,\n",
    "        punctuation, and whitespace are stripped away.  The function\n",
    "        returns a list of the words used in the book as a list.\n",
    "        All words are converted to lower case.\n",
    "    \"\"\"\n",
    "    l = []\n",
    "    fin = open(file_name, 'r')\n",
    "    header = False\n",
    "    for line in fin:\n",
    "            if(not header):\n",
    "                    if 'Start of this project Gutenberg Ebook' in line:\n",
    "                            header = True\n",
    "            else:\n",
    "                    for punc in string.punctuation:\n",
    "                            line = line.replace(punc, '')\n",
    "                    line = line.replace('\\n', '')\n",
    "                    line = line.replace('\\t', '')\n",
    "                    line = line.lower()\n",
    "                    words = line.split()\n",
    "                    for word in words:\n",
    "                            l.append(word)\n",
    "    return l\n",
    "\n",
    "\n"
   ]
  },
  {
   "cell_type": "code",
   "execution_count": 12,
   "metadata": {
    "collapsed": false
   },
   "outputs": [
    {
     "name": "stdout",
     "output_type": "stream",
     "text": [
      "[]\n"
     ]
    }
   ],
   "source": [
    "def get_top_n_words(word_list, n):\n",
    "    \"\"\" Takes a list of words as input and returns a list of the n most frequently\n",
    "        occurring words ordered from most to least frequently occurring.\n",
    "\n",
    "        word_list: a list of words (assumed to all be in lower case with no\n",
    "                    punctuation\n",
    "        n: the number of words to return\n",
    "        returns: a list of n most frequently occurring words ordered from most\n",
    "                 frequently to least frequentlyoccurring\n",
    "    \n",
    "    \"\"\"\n",
    "    d ={}\n",
    "    for word in word_list:\n",
    "            if word in d.keys():\n",
    "                    d[word] += 1\n",
    "            else:\n",
    "                    d[word] = 1\n",
    "    ordered_by_frequency = sorted(d, key=d.get, reverse=True)\n",
    "    return ordered_by_frequency[:n]\n",
    "\n",
    "if __name__ == '__main__':\n",
    "        x = get_word_list('pg32325.txt')\n",
    "        print(get_top_n_words(x,100))\n",
    "        "
   ]
  },
  {
   "cell_type": "code",
   "execution_count": null,
   "metadata": {
    "collapsed": true
   },
   "outputs": [],
   "source": []
  }
 ],
 "metadata": {
  "kernelspec": {
   "display_name": "Python 2",
   "language": "python",
   "name": "python2"
  },
  "language_info": {
   "codemirror_mode": {
    "name": "ipython",
    "version": 2
   },
   "file_extension": ".py",
   "mimetype": "text/x-python",
   "name": "python",
   "nbconvert_exporter": "python",
   "pygments_lexer": "ipython2",
   "version": "2.7.6"
  }
 },
 "nbformat": 4,
 "nbformat_minor": 1
}
