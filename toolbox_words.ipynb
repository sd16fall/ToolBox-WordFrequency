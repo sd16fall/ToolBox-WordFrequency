{
 "cells": [
  {
   "cell_type": "code",
   "execution_count": null,
   "metadata": {
    "collapsed": false
   },
   "outputs": [],
   "source": []
  },
  {
   "cell_type": "code",
   "execution_count": null,
   "metadata": {
    "collapsed": false
   },
   "outputs": [],
   "source": [
    "#print text"
   ]
  },
  {
   "cell_type": "code",
   "execution_count": 25,
   "metadata": {
    "collapsed": false
   },
   "outputs": [],
   "source": [
    "import string\n",
    "\n",
    "def get_word_list(file_name):\n",
    "    f = open(file_name,'r')\n",
    "    lines = f.readlines()\n",
    "    curr_line = 0\n",
    "    while lines[curr_line].find('START OF THIS PROJECT GUTENBERG EBOOK') == -1:\n",
    "        curr_line += 1\n",
    "    lines = lines[curr_line+1:]\n",
    "    \n",
    "    curr_line = len(lines)-1\n",
    "    while lines[curr_line].find('End of the Project Gutenberg EBook') == -1:\n",
    "        curr_line -= 1\n",
    "    lines = lines[:curr_line]\n",
    "    \n",
    "    hist = []\n",
    "    \n",
    "    for line in lines:\n",
    "    \n",
    "        line = line.replace('-', ' ')\n",
    "\n",
    "        for word in line.split():\n",
    "            word = word.strip(string.punctuation + string.whitespace)\n",
    "            word = word.lower()\n",
    "            \n",
    "            hist.append(word)\n",
    "    \n",
    "    return hist\n",
    "    \n",
    "    "
   ]
  },
  {
   "cell_type": "code",
   "execution_count": 26,
   "metadata": {
    "collapsed": false
   },
   "outputs": [],
   "source": [
    "textlist = get_word_list(\"P_P.txt\")"
   ]
  },
  {
   "cell_type": "code",
   "execution_count": 28,
   "metadata": {
    "collapsed": false
   },
   "outputs": [],
   "source": [
    "#print textlist"
   ]
  },
  {
   "cell_type": "code",
   "execution_count": 31,
   "metadata": {
    "collapsed": false
   },
   "outputs": [],
   "source": [
    "\n",
    "def get_top_n_words(word_list, n):\n",
    "    hist = {}\n",
    "    \n",
    "    for word in word_list:\n",
    "        hist[word] = hist.get(word, 0) + 1\n",
    "        \n",
    "    histlistsort = []\n",
    "    \n",
    "    for key, value in hist.items():\n",
    "        histlistsort.append((value, key))\n",
    "        \n",
    "    histlistsort.sort()\n",
    "    histlistsort.reverse()\n",
    "    \n",
    "    \n",
    "        \n",
    "    return histlistsort[0:n]"
   ]
  },
  {
   "cell_type": "code",
   "execution_count": 33,
   "metadata": {
    "collapsed": false
   },
   "outputs": [
    {
     "data": {
      "text/plain": [
       "[(4331, 'the'),\n",
       " (4163, 'to'),\n",
       " (3611, 'of'),\n",
       " (3585, 'and'),\n",
       " (2225, 'her'),\n",
       " (2069, 'i'),\n",
       " (1954, 'a'),\n",
       " (1880, 'in'),\n",
       " (1846, 'was'),\n",
       " (1710, 'she'),\n",
       " (1579, 'that'),\n",
       " (1535, 'it'),\n",
       " (1429, 'not'),\n",
       " (1357, 'you'),\n",
       " (1336, 'he'),\n",
       " (1271, 'his'),\n",
       " (1241, 'be'),\n",
       " (1181, 'as'),\n",
       " (1177, 'had'),\n",
       " (1060, 'for'),\n",
       " (1053, 'with'),\n",
       " (1002, 'but'),\n",
       " (860, 'is'),\n",
       " (842, 'have'),\n",
       " (787, 'at'),\n",
       " (786, 'mr'),\n",
       " (764, 'him'),\n",
       " (719, 'my'),\n",
       " (715, 'on'),\n",
       " (637, 'by'),\n",
       " (625, 'all'),\n",
       " (601, 'they'),\n",
       " (597, 'elizabeth'),\n",
       " (589, 'so'),\n",
       " (566, 'were'),\n",
       " (539, 'which'),\n",
       " (526, 'could'),\n",
       " (515, 'been'),\n",
       " (493, 'from'),\n",
       " (490, 'no'),\n",
       " (487, 'very'),\n",
       " (478, 'what'),\n",
       " (471, 'would'),\n",
       " (456, 'your'),\n",
       " (448, 'this'),\n",
       " (448, 'me'),\n",
       " (443, 'their'),\n",
       " (435, 'them'),\n",
       " (415, 'will'),\n",
       " (401, 'said'),\n",
       " (389, 'such'),\n",
       " (374, 'when'),\n",
       " (374, 'darcy'),\n",
       " (361, 'an'),\n",
       " (353, 'there'),\n",
       " (350, 'if'),\n",
       " (347, 'do'),\n",
       " (343, 'mrs'),\n",
       " (340, 'are'),\n",
       " (328, 'much'),\n",
       " (326, 'more'),\n",
       " (317, 'am'),\n",
       " (308, 'must'),\n",
       " (299, 'or'),\n",
       " (294, 'bennet'),\n",
       " (284, 'who'),\n",
       " (283, 'miss'),\n",
       " (282, 'than'),\n",
       " (272, 'did'),\n",
       " (269, 'any'),\n",
       " (268, 'one'),\n",
       " (264, 'jane'),\n",
       " (257, 'bingley'),\n",
       " (253, 'we'),\n",
       " (248, 'should'),\n",
       " (238, 'know'),\n",
       " (231, 'how'),\n",
       " (227, 'herself'),\n",
       " (227, 'before'),\n",
       " (226, 'though'),\n",
       " (224, 'well'),\n",
       " (221, 'has'),\n",
       " (220, 'never'),\n",
       " (216, 'soon'),\n",
       " (216, 'only'),\n",
       " (211, 'think'),\n",
       " (211, 'some'),\n",
       " (211, 'can'),\n",
       " (210, 'other'),\n",
       " (209, 'now'),\n",
       " (203, 'time'),\n",
       " (201, 'good'),\n",
       " (200, 'might'),\n",
       " (200, 'after'),\n",
       " (198, 'every'),\n",
       " (193, 'may'),\n",
       " (189, 'little'),\n",
       " (188, 'most'),\n",
       " (183, 'own'),\n",
       " (183, 'lady')]"
      ]
     },
     "execution_count": 33,
     "metadata": {},
     "output_type": "execute_result"
    }
   ],
   "source": [
    "get_top_n_words(textlist, 100)"
   ]
  },
  {
   "cell_type": "code",
   "execution_count": null,
   "metadata": {
    "collapsed": true
   },
   "outputs": [],
   "source": []
  }
 ],
 "metadata": {
  "kernelspec": {
   "display_name": "Python 2",
   "language": "python",
   "name": "python2"
  },
  "language_info": {
   "codemirror_mode": {
    "name": "ipython",
    "version": 2
   },
   "file_extension": ".py",
   "mimetype": "text/x-python",
   "name": "python",
   "nbconvert_exporter": "python",
   "pygments_lexer": "ipython2",
   "version": "2.7.6"
  }
 },
 "nbformat": 4,
 "nbformat_minor": 1
}
